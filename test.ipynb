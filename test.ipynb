{
 "cells": [
  {
   "cell_type": "code",
   "execution_count": 5,
   "id": "5a53485c",
   "metadata": {},
   "outputs": [
    {
     "name": "stdout",
     "output_type": "stream",
     "text": [
      "My Name is kabir\n"
     ]
    }
   ],
   "source": [
    "import numpy as np\n",
    "name = \"kabir\"\n",
    "print(\"My Name is %s\"% name)"
   ]
  },
  {
   "cell_type": "code",
   "execution_count": 7,
   "id": "c6f1d9f1",
   "metadata": {},
   "outputs": [
    {
     "name": "stdout",
     "output_type": "stream",
     "text": [
      "My Name is kabir and age is 21\n",
      "My name is kabir and age is 21\n"
     ]
    }
   ],
   "source": [
    "age = 21\n",
    "print(\"My Name is %s and age is %d\"%(name , age))\n",
    "print(f\"My name is {name} and age is {age}\")"
   ]
  },
  {
   "cell_type": "code",
   "execution_count": 17,
   "id": "2039bc87",
   "metadata": {},
   "outputs": [
    {
     "data": {
      "text/plain": [
       "True"
      ]
     },
     "execution_count": 17,
     "metadata": {},
     "output_type": "execute_result"
    }
   ],
   "source": [
    "e =[1,2,3]\n",
    "f = e\n",
    "e is f\n"
   ]
  },
  {
   "cell_type": "code",
   "execution_count": 18,
   "id": "cb4aeb18",
   "metadata": {},
   "outputs": [
    {
     "data": {
      "text/plain": [
       "True"
      ]
     },
     "execution_count": 18,
     "metadata": {},
     "output_type": "execute_result"
    }
   ],
   "source": [
    "e==f"
   ]
  },
  {
   "cell_type": "code",
   "execution_count": 19,
   "id": "ab363789",
   "metadata": {},
   "outputs": [
    {
     "name": "stdout",
     "output_type": "stream",
     "text": [
      "[200, 2, 3] [200, 2, 3]\n"
     ]
    }
   ],
   "source": [
    "e[0] = 100\n",
    "f[0] = 200\n",
    "print(e,f)"
   ]
  },
  {
   "cell_type": "code",
   "execution_count": 20,
   "id": "5d6aa0a7",
   "metadata": {},
   "outputs": [
    {
     "name": "stdout",
     "output_type": "stream",
     "text": [
      "[100, 2, 3] [1, 200, 3]\n"
     ]
    }
   ],
   "source": [
    "g = [1,2,3]\n",
    "h = g.copy()\n",
    "g[0] = 100\n",
    "h[1] = 200\n",
    "print(g,h)"
   ]
  },
  {
   "cell_type": "code",
   "execution_count": 25,
   "id": "2697e3d6",
   "metadata": {},
   "outputs": [
    {
     "name": "stdout",
     "output_type": "stream",
     "text": [
      "[100, 2, 3, [1, 2, 3, 4]] [1, 200, 3, [1, 2, 3, 5]]\n"
     ]
    },
    {
     "data": {
      "text/plain": [
       "False"
      ]
     },
     "execution_count": 25,
     "metadata": {},
     "output_type": "execute_result"
    }
   ],
   "source": [
    "\n",
    "from copy import deepcopy\n",
    "k = [1, 2, 3, [1, 2, 3]]\n",
    "l = deepcopy(k)\n",
    "k[0] = 100\n",
    "l[1] = 200\n",
    "k[3].append(4)\n",
    "l[3].append(5)\n",
    "print(k,l)\n",
    "\n",
    "k[3] is l[3]"
   ]
  },
  {
   "cell_type": "code",
   "execution_count": 26,
   "id": "0163b7d4",
   "metadata": {},
   "outputs": [
    {
     "name": "stdout",
     "output_type": "stream",
     "text": [
      "1\n",
      "4\n",
      "9\n"
     ]
    }
   ],
   "source": [
    "# Generator practice occurs as \n",
    "def iteratorsquares(numsarr):\n",
    "    for j in numsarr:\n",
    "        yield j**2\n",
    "for j in iteratorsquares([1,2,3]):\n",
    "    print(j)"
   ]
  },
  {
   "cell_type": "code",
   "execution_count": null,
   "id": "20842816",
   "metadata": {},
   "outputs": [],
   "source": []
  }
 ],
 "metadata": {
  "kernelspec": {
   "display_name": ".conda",
   "language": "python",
   "name": "python3"
  },
  "language_info": {
   "codemirror_mode": {
    "name": "ipython",
    "version": 3
   },
   "file_extension": ".py",
   "mimetype": "text/x-python",
   "name": "python",
   "nbconvert_exporter": "python",
   "pygments_lexer": "ipython3",
   "version": "3.12.11"
  }
 },
 "nbformat": 4,
 "nbformat_minor": 5
}
