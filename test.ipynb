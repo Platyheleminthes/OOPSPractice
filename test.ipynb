{
 "cells": [
  {
   "cell_type": "code",
   "execution_count": 5,
   "id": "5a53485c",
   "metadata": {},
   "outputs": [
    {
     "name": "stdout",
     "output_type": "stream",
     "text": [
      "My Name is kabir\n"
     ]
    }
   ],
   "source": [
    "import numpy as np\n",
    "name = \"kabir\"\n",
    "print(\"My Name is %s\"% name)"
   ]
  },
  {
   "cell_type": "code",
   "execution_count": 7,
   "id": "c6f1d9f1",
   "metadata": {},
   "outputs": [
    {
     "name": "stdout",
     "output_type": "stream",
     "text": [
      "My Name is kabir and age is 21\n",
      "My name is kabir and age is 21\n"
     ]
    }
   ],
   "source": [
    "age = 21\n",
    "print(\"My Name is %s and age is %d\"%(name , age))\n",
    "print(f\"My name is {name} and age is {age}\")"
   ]
  },
  {
   "cell_type": "code",
   "execution_count": 17,
   "id": "2039bc87",
   "metadata": {},
   "outputs": [
    {
     "data": {
      "text/plain": [
       "True"
      ]
     },
     "execution_count": 17,
     "metadata": {},
     "output_type": "execute_result"
    }
   ],
   "source": [
    "e =[1,2,3]\n",
    "f = e\n",
    "e is f\n"
   ]
  },
  {
   "cell_type": "code",
   "execution_count": 18,
   "id": "cb4aeb18",
   "metadata": {},
   "outputs": [
    {
     "data": {
      "text/plain": [
       "True"
      ]
     },
     "execution_count": 18,
     "metadata": {},
     "output_type": "execute_result"
    }
   ],
   "source": [
    "e==f"
   ]
  },
  {
   "cell_type": "code",
   "execution_count": 19,
   "id": "ab363789",
   "metadata": {},
   "outputs": [
    {
     "name": "stdout",
     "output_type": "stream",
     "text": [
      "[200, 2, 3] [200, 2, 3]\n"
     ]
    }
   ],
   "source": [
    "e[0] = 100\n",
    "f[0] = 200\n",
    "print(e,f)"
   ]
  },
  {
   "cell_type": "code",
   "execution_count": 20,
   "id": "5d6aa0a7",
   "metadata": {},
   "outputs": [
    {
     "name": "stdout",
     "output_type": "stream",
     "text": [
      "[100, 2, 3] [1, 200, 3]\n"
     ]
    }
   ],
   "source": [
    "g = [1,2,3]\n",
    "h = g.copy()\n",
    "g[0] = 100\n",
    "h[1] = 200\n",
    "print(g,h)"
   ]
  },
  {
   "cell_type": "code",
   "execution_count": 25,
   "id": "2697e3d6",
   "metadata": {},
   "outputs": [
    {
     "name": "stdout",
     "output_type": "stream",
     "text": [
      "[100, 2, 3, [1, 2, 3, 4]] [1, 200, 3, [1, 2, 3, 5]]\n"
     ]
    },
    {
     "data": {
      "text/plain": [
       "False"
      ]
     },
     "execution_count": 25,
     "metadata": {},
     "output_type": "execute_result"
    }
   ],
   "source": [
    "\n",
    "from copy import deepcopy\n",
    "k = [1, 2, 3, [1, 2, 3]]\n",
    "l = deepcopy(k)\n",
    "k[0] = 100\n",
    "l[1] = 200\n",
    "k[3].append(4)\n",
    "l[3].append(5)\n",
    "print(k,l)\n",
    "\n",
    "k[3] is l[3]"
   ]
  },
  {
   "cell_type": "code",
   "execution_count": 26,
   "id": "0163b7d4",
   "metadata": {},
   "outputs": [
    {
     "name": "stdout",
     "output_type": "stream",
     "text": [
      "1\n",
      "4\n",
      "9\n"
     ]
    }
   ],
   "source": [
    "# Generator practice occurs as \n",
    "def iteratorsquares(numsarr):\n",
    "    for j in numsarr:\n",
    "        yield j**2\n",
    "for j in iteratorsquares([1,2,3]):\n",
    "    print(j)"
   ]
  },
  {
   "cell_type": "code",
   "execution_count": 27,
   "id": "20842816",
   "metadata": {},
   "outputs": [
    {
     "name": "stdout",
     "output_type": "stream",
     "text": [
      "Help on ufunc in module numpy:\n",
      "\n",
      "arctan2 = <ufunc 'arctan2'>\n",
      "    arctan2(x1, x2, /, out=None, *, where=True, casting='same_kind', order='K', dtype=None, subok=True[, signature])\n",
      "\n",
      "    Element-wise arc tangent of ``x1/x2`` choosing the quadrant correctly.\n",
      "\n",
      "    The quadrant (i.e., branch) is chosen so that ``arctan2(x1, x2)`` is\n",
      "    the signed angle in radians between the ray ending at the origin and\n",
      "    passing through the point (1,0), and the ray ending at the origin and\n",
      "    passing through the point (`x2`, `x1`).  (Note the role reversal: the\n",
      "    \"`y`-coordinate\" is the first function parameter, the \"`x`-coordinate\"\n",
      "    is the second.)  By IEEE convention, this function is defined for\n",
      "    `x2` = +/-0 and for either or both of `x1` and `x2` = +/-inf (see\n",
      "    Notes for specific values).\n",
      "\n",
      "    This function is not defined for complex-valued arguments; for the\n",
      "    so-called argument of complex values, use `angle`.\n",
      "\n",
      "    Parameters\n",
      "    ----------\n",
      "    x1 : array_like, real-valued\n",
      "        `y`-coordinates.\n",
      "    x2 : array_like, real-valued\n",
      "        `x`-coordinates.\n",
      "        If ``x1.shape != x2.shape``, they must be broadcastable to a common\n",
      "        shape (which becomes the shape of the output).\n",
      "    out : ndarray, None, or tuple of ndarray and None, optional\n",
      "        A location into which the result is stored. If provided, it must have\n",
      "        a shape that the inputs broadcast to. If not provided or None,\n",
      "        a freshly-allocated array is returned. A tuple (possible only as a\n",
      "        keyword argument) must have length equal to the number of outputs.\n",
      "    where : array_like, optional\n",
      "        This condition is broadcast over the input. At locations where the\n",
      "        condition is True, the `out` array will be set to the ufunc result.\n",
      "        Elsewhere, the `out` array will retain its original value.\n",
      "        Note that if an uninitialized `out` array is created via the default\n",
      "        ``out=None``, locations within it where the condition is False will\n",
      "        remain uninitialized.\n",
      "    **kwargs\n",
      "        For other keyword-only arguments, see the\n",
      "        :ref:`ufunc docs <ufuncs.kwargs>`.\n",
      "\n",
      "    Returns\n",
      "    -------\n",
      "    angle : ndarray\n",
      "        Array of angles in radians, in the range ``[-pi, pi]``.\n",
      "        This is a scalar if both `x1` and `x2` are scalars.\n",
      "\n",
      "    See Also\n",
      "    --------\n",
      "    arctan, tan, angle\n",
      "\n",
      "    Notes\n",
      "    -----\n",
      "    *arctan2* is identical to the `atan2` function of the underlying\n",
      "    C library.  The following special values are defined in the C\n",
      "    standard: [1]_\n",
      "\n",
      "    ====== ====== ================\n",
      "    `x1`   `x2`   `arctan2(x1,x2)`\n",
      "    ====== ====== ================\n",
      "    +/- 0  +0     +/- 0\n",
      "    +/- 0  -0     +/- pi\n",
      "     > 0   +/-inf +0 / +pi\n",
      "     < 0   +/-inf -0 / -pi\n",
      "    +/-inf +inf   +/- (pi/4)\n",
      "    +/-inf -inf   +/- (3*pi/4)\n",
      "    ====== ====== ================\n",
      "\n",
      "    Note that +0 and -0 are distinct floating point numbers, as are +inf\n",
      "    and -inf.\n",
      "\n",
      "    References\n",
      "    ----------\n",
      "    .. [1] ISO/IEC standard 9899:1999, \"Programming language C.\"\n",
      "\n",
      "    Examples\n",
      "    --------\n",
      "\n",
      "    Consider four points in different quadrants:\n",
      "\n",
      "    >>> import numpy as np\n",
      "    >>> x = np.array([-1, +1, +1, -1])\n",
      "    >>> y = np.array([-1, -1, +1, +1])\n",
      "    >>> np.arctan2(y, x) * 180 / np.pi\n",
      "    array([-135.,  -45.,   45.,  135.])\n",
      "\n",
      "    Note the order of the parameters. `arctan2` is defined also when `x2` = 0\n",
      "    and at several other special points, obtaining values in\n",
      "    the range ``[-pi, pi]``:\n",
      "\n",
      "    >>> np.arctan2([1., -1.], [0., 0.])\n",
      "    array([ 1.57079633, -1.57079633])\n",
      "    >>> np.arctan2([0., 0., np.inf], [+0., -0., np.inf])\n",
      "    array([0.        , 3.14159265, 0.78539816])\n",
      "\n"
     ]
    }
   ],
   "source": [
    "import numpy as np\n",
    "help(np.arctan2)"
   ]
  },
  {
   "cell_type": "code",
   "execution_count": null,
   "id": "26f9094b",
   "metadata": {},
   "outputs": [],
   "source": []
  }
 ],
 "metadata": {
  "kernelspec": {
   "display_name": ".conda",
   "language": "python",
   "name": "python3"
  },
  "language_info": {
   "codemirror_mode": {
    "name": "ipython",
    "version": 3
   },
   "file_extension": ".py",
   "mimetype": "text/x-python",
   "name": "python",
   "nbconvert_exporter": "python",
   "pygments_lexer": "ipython3",
   "version": "3.12.11"
  }
 },
 "nbformat": 4,
 "nbformat_minor": 5
}
