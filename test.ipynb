{
 "cells": [
  {
   "cell_type": "code",
   "execution_count": 5,
   "id": "5a53485c",
   "metadata": {},
   "outputs": [
    {
     "name": "stdout",
     "output_type": "stream",
     "text": [
      "My Name is kabir\n"
     ]
    }
   ],
   "source": [
    "import numpy as np\n",
    "name = \"kabir\"\n",
    "print(\"My Name is %s\"% name)"
   ]
  },
  {
   "cell_type": "code",
   "execution_count": 7,
   "id": "c6f1d9f1",
   "metadata": {},
   "outputs": [
    {
     "name": "stdout",
     "output_type": "stream",
     "text": [
      "My Name is kabir and age is 21\n",
      "My name is kabir and age is 21\n"
     ]
    }
   ],
   "source": [
    "age = 21\n",
    "print(\"My Name is %s and age is %d\"%(name , age))\n",
    "print(f\"My name is {name} and age is {age}\")"
   ]
  },
  {
   "cell_type": "code",
   "execution_count": 17,
   "id": "2039bc87",
   "metadata": {},
   "outputs": [
    {
     "data": {
      "text/plain": [
       "True"
      ]
     },
     "execution_count": 17,
     "metadata": {},
     "output_type": "execute_result"
    }
   ],
   "source": [
    "e =[1,2,3]\n",
    "f = e\n",
    "e is f\n"
   ]
  },
  {
   "cell_type": "code",
   "execution_count": 18,
   "id": "cb4aeb18",
   "metadata": {},
   "outputs": [
    {
     "data": {
      "text/plain": [
       "True"
      ]
     },
     "execution_count": 18,
     "metadata": {},
     "output_type": "execute_result"
    }
   ],
   "source": [
    "e==f"
   ]
  },
  {
   "cell_type": "code",
   "execution_count": 19,
   "id": "ab363789",
   "metadata": {},
   "outputs": [
    {
     "name": "stdout",
     "output_type": "stream",
     "text": [
      "[200, 2, 3] [200, 2, 3]\n"
     ]
    }
   ],
   "source": [
    "e[0] = 100\n",
    "f[0] = 200\n",
    "print(e,f)"
   ]
  },
  {
   "cell_type": "code",
   "execution_count": 20,
   "id": "5d6aa0a7",
   "metadata": {},
   "outputs": [
    {
     "name": "stdout",
     "output_type": "stream",
     "text": [
      "[100, 2, 3] [1, 200, 3]\n"
     ]
    }
   ],
   "source": [
    "g = [1,2,3]\n",
    "h = g.copy()\n",
    "g[0] = 100\n",
    "h[1] = 200\n",
    "print(g,h)"
   ]
  },
  {
   "cell_type": "code",
   "execution_count": 25,
   "id": "2697e3d6",
   "metadata": {},
   "outputs": [
    {
     "name": "stdout",
     "output_type": "stream",
     "text": [
      "[100, 2, 3, [1, 2, 3, 4]] [1, 200, 3, [1, 2, 3, 5]]\n"
     ]
    },
    {
     "data": {
      "text/plain": [
       "False"
      ]
     },
     "execution_count": 25,
     "metadata": {},
     "output_type": "execute_result"
    }
   ],
   "source": [
    "\n",
    "from copy import deepcopy\n",
    "k = [1, 2, 3, [1, 2, 3]]\n",
    "l = deepcopy(k)\n",
    "k[0] = 100\n",
    "l[1] = 200\n",
    "k[3].append(4)\n",
    "l[3].append(5)\n",
    "print(k,l)\n",
    "\n",
    "k[3] is l[3]"
   ]
  },
  {
   "cell_type": "code",
   "execution_count": 26,
   "id": "0163b7d4",
   "metadata": {},
   "outputs": [
    {
     "name": "stdout",
     "output_type": "stream",
     "text": [
      "1\n",
      "4\n",
      "9\n"
     ]
    }
   ],
   "source": [
    "# Generator practice occurs as \n",
    "def iteratorsquares(numsarr):\n",
    "    for j in numsarr:\n",
    "        yield j**2\n",
    "for j in iteratorsquares([1,2,3]):\n",
    "    print(j)"
   ]
  },
  {
   "cell_type": "code",
   "execution_count": null,
   "id": "20842816",
   "metadata": {},
   "outputs": [],
   "source": []
  },
  {
   "cell_type": "markdown",
   "id": "26f9094b",
   "metadata": {},
   "source": [
    "# OOPS Apna Worksheet Practice\n"
   ]
  },
  {
   "cell_type": "code",
   "execution_count": null,
   "id": "61cb357b",
   "metadata": {},
   "outputs": [],
   "source": [
    "import numpy as np\n",
    "import matplotlib.pyplot as plt\n",
    "import scipy as sp\n"
   ]
  },
  {
   "cell_type": "code",
   "execution_count": 6,
   "id": "78e46e26",
   "metadata": {},
   "outputs": [
    {
     "name": "stdout",
     "output_type": "stream",
     "text": [
      "<__main__.Cars object at 0x115f1b7d0> <__main__.Cars object at 0x114f33d10> black BMW X Series black BMW X Series\n"
     ]
    }
   ],
   "source": [
    "class Cars:\n",
    "    color = \"black\"\n",
    "    model = \"BMW X Series\"\n",
    "c1 = Cars()\n",
    "c2 = Cars()\n",
    "print(c1 , c2 ,c1.color , c1.model , c2.color , c2.model)\n"
   ]
  },
  {
   "cell_type": "code",
   "execution_count": 18,
   "id": "794c2e9f",
   "metadata": {},
   "outputs": [
    {
     "name": "stdout",
     "output_type": "stream",
     "text": [
      "Your name is Kabir\n",
      " Your age is 21 \n",
      "  This Student of SNS added to the database\n"
     ]
    }
   ],
   "source": [
    "class Students:\n",
    "    def __init__(self , name,age , school):\n",
    "        self.name = name\n",
    "        self.school = school\n",
    "        print(f\"Your name is {name}\\n\" , f\"Your age is {age} \\n\" , f\" This Student of {school} added to the database\")\n",
    "s1 = Students(name=\"Kabir\" , school=\"SNS\" , age=21)"
   ]
  },
  {
   "cell_type": "code",
   "execution_count": 21,
   "id": "657f492f",
   "metadata": {},
   "outputs": [
    {
     "name": "stdout",
     "output_type": "stream",
     "text": [
      "USA USA\n",
      "Imperial 2\n"
     ]
    }
   ],
   "source": [
    "class College:\n",
    "    country = \"USA\"\n",
    "    def __init__(self , name , ranking):\n",
    "        self.name = name\n",
    "        self.rank = ranking\n",
    "\n",
    "c1 = College(name=\"Imperial\" , ranking=\"2\")\n",
    "print(c1.country , College.country)\n",
    "print(c1.name , c1.rank)"
   ]
  },
  {
   "cell_type": "code",
   "execution_count": 32,
   "id": "6ef5b591",
   "metadata": {},
   "outputs": [
    {
     "name": "stdout",
     "output_type": "stream",
     "text": [
      "The Average Marks are :  52.333333333333336\n",
      "Not eligible for any classification\n"
     ]
    }
   ],
   "source": [
    "class Students:\n",
    "    def __init__(self , mp , mc , mm):\n",
    "        self.physics = mp\n",
    "        self.chemistry = mc\n",
    "        self.maths = mm\n",
    "    def mean(self):\n",
    "        print(\"The Average Marks are : \" , np.mean([self.physics , self.chemistry , self.maths]))\n",
    "    @staticmethod\n",
    "    def qualifications(mean):\n",
    "        if mean>=70:\n",
    "            print(\"First\")\n",
    "        elif 60<=mean<70:\n",
    "            print(\"Second\")\n",
    "        else:\n",
    "            print(\"Not eligible for any classification\")\n",
    "    \n",
    "s1 = Students(mp= 90 ,mc = 45 , mm = 22)\n",
    "s1.mean()\n",
    "s1.qualifications(mean=52.3333)"
   ]
  },
  {
   "cell_type": "code",
   "execution_count": 38,
   "id": "b59c4415",
   "metadata": {},
   "outputs": [
    {
     "name": "stdout",
     "output_type": "stream",
     "text": [
      "2000 rupees have been debited from your account \n",
      " Your current balance is 98000\n",
      "200000 rupees have been credited to your account \n",
      " Your current balance is 298000\n",
      "This account is available\n",
      "2398457248957893047\n"
     ]
    }
   ],
   "source": [
    "# Make an account class which takes acc_no and balance as attributes\n",
    "# debit reduces and credit increases here man\n",
    "\n",
    "class acc:\n",
    "    def __init__(self , acc_no , acc_balance , code):\n",
    "        self.__code = code\n",
    "        self.acc_no = acc_no\n",
    "        self.balance = acc_balance\n",
    "    def debit(self , deb):\n",
    "        self.balance-=deb\n",
    "        print(f\"{deb} rupees have been debited from your account \\n\" , f\"Your current balance is {self.balance}\")\n",
    "    def credit(self , cred):\n",
    "        self.balance+=cred\n",
    "        print(f\"{cred} rupees have been credited to your account \\n\" , f\"Your current balance is {self.balance}\")\n",
    "    def __checker(self):\n",
    "        if self.__code<100:\n",
    "            return True\n",
    "        else:\n",
    "            return False\n",
    "    def check(self):\n",
    "        if self.__checker:\n",
    "            print(\"This account is available\")\n",
    "        else:\n",
    "            print(\"This account is not available\")\n",
    "    @staticmethod\n",
    "    def printbranchnos():\n",
    "        print(\"2398457248957893047\")\n",
    "    \n",
    "\n",
    "a1 = acc(acc_no = 123 ,acc_balance=100000 , code = 1232322)\n",
    "a1.debit(deb=2000)\n",
    "a1.credit(200000)\n",
    "a1.check()\n",
    "a1.printbranchnos()"
   ]
  },
  {
   "cell_type": "markdown",
   "id": "6419b306",
   "metadata": {},
   "source": []
  },
  {
   "cell_type": "markdown",
   "id": "b600b6a8",
   "metadata": {},
   "source": [
    "# Inheritance practice\n"
   ]
  },
  {
   "cell_type": "code",
   "execution_count": 52,
   "id": "01b9ac21",
   "metadata": {},
   "outputs": [
    {
     "name": "stdout",
     "output_type": "stream",
     "text": [
      "The Car has started\n",
      "The Car Has stopped\n",
      "None None\n"
     ]
    }
   ],
   "source": [
    "class Cars:\n",
    "    color = \"black\"\n",
    "    @staticmethod\n",
    "    def start():\n",
    "        print(\"The Car has started\")\n",
    "    @staticmethod\n",
    "    def stop():\n",
    "        print(\"The Car Has stopped\")\n",
    "class BMW(Cars):\n",
    "    def __init__(self , name):\n",
    "        self.name = name\n",
    "class X1(BMW):\n",
    "    def __init__(self , type):\n",
    "        self.type = type\n",
    "\n",
    "c1 = X1(\"Diesel\")\n",
    "c2 = X1(\"Petrol\")\n",
    "print(c1.start() , c2.stop())"
   ]
  },
  {
   "cell_type": "code",
   "execution_count": 55,
   "id": "664cb81d",
   "metadata": {},
   "outputs": [
    {
     "name": "stdout",
     "output_type": "stream",
     "text": [
      "this is class a\n",
      "this is class b\n",
      "this is class c\n"
     ]
    }
   ],
   "source": [
    "class A:\n",
    "    varA = \"this is class a\"\n",
    "class B:\n",
    "    varB = \"this is class b\"\n",
    "class C(A,B):\n",
    "    varC = \"this is class c\"\n",
    "c1 =C()\n",
    "print(c1.varA)\n",
    "print(c1.varB)\n",
    "print(c1.varC)\n"
   ]
  },
  {
   "cell_type": "code",
   "execution_count": 60,
   "id": "200502c8",
   "metadata": {},
   "outputs": [
    {
     "name": "stdout",
     "output_type": "stream",
     "text": [
      "This car has started\n",
      "This car has stopped\n"
     ]
    }
   ],
   "source": [
    "class Cars:\n",
    "    def __init__(self , type):\n",
    "        self.type = type\n",
    "    @staticmethod\n",
    "    def start():\n",
    "        print(\"This car has started\")\n",
    "    @staticmethod\n",
    "    def stop():\n",
    "        print(\"This car has stopped\")\n",
    "class BMW(Cars):\n",
    "    def __init__(self , name , type):\n",
    "        self.name = name\n",
    "        super().__init__(type=type)\n",
    "        super().start()\n",
    "c1 = BMW(name = \"X1\" , type = \"electric\")\n",
    "c1.stop()\n",
    "\n"
   ]
  },
  {
   "cell_type": "code",
   "execution_count": 69,
   "id": "dbfdb50c",
   "metadata": {},
   "outputs": [
    {
     "data": {
      "text/plain": [
       "'Kabir'"
      ]
     },
     "execution_count": 69,
     "metadata": {},
     "output_type": "execute_result"
    }
   ],
   "source": [
    "class Humans:\n",
    "    name = \"Kabir\"\n",
    "    @classmethod\n",
    "    def changeName(cls , name):\n",
    "        cls.name = name\n",
    "h1 = Humans()\n",
    "h1.name"
   ]
  },
  {
   "cell_type": "code",
   "execution_count": 70,
   "id": "294b6879",
   "metadata": {},
   "outputs": [
    {
     "data": {
      "text/plain": [
       "'Kabir Singh'"
      ]
     },
     "execution_count": 70,
     "metadata": {},
     "output_type": "execute_result"
    }
   ],
   "source": [
    "h1.changeName(\"Kabir Singh\")\n",
    "h1.name\n",
    "Humans.name"
   ]
  },
  {
   "cell_type": "code",
   "execution_count": 76,
   "id": "9ef09ef4",
   "metadata": {},
   "outputs": [
    {
     "name": "stdout",
     "output_type": "stream",
     "text": [
      "1 + 2 i\n",
      "5 + 7 i\n"
     ]
    }
   ],
   "source": [
    "# Polymorphism \n",
    "class Complex:\n",
    "    def __init__(self ,real , im):\n",
    "        self.real = real\n",
    "        self.im = im\n",
    "    def showNum(self):\n",
    "        print(self.real , \"+\" , self.im , \"i\")\n",
    "    def add(self , num2):\n",
    "        newreal = self.real + num2.real\n",
    "        newim = self.im + num2.im\n",
    "        return Complex(newreal , newim)\n",
    "c1 = Complex(1,2)\n",
    "c1.showNum()\n",
    "c1.add(Complex(4,5)).showNum()"
   ]
  },
  {
   "cell_type": "code",
   "execution_count": 78,
   "id": "76e10fcb",
   "metadata": {},
   "outputs": [
    {
     "name": "stdout",
     "output_type": "stream",
     "text": [
      "2 + 4 i\n"
     ]
    }
   ],
   "source": [
    "class Complex:\n",
    "    def __init__(self ,real ,im):\n",
    "        self.real = real\n",
    "        self.im = im\n",
    "    def showNum(self):\n",
    "         print(self.real , \"+\" , self.im , \"i\")\n",
    "    def __add__(self , num2):\n",
    "        newreal = self.real + num2.real\n",
    "        newim = self.im + num2.im\n",
    "        return Complex(newreal , newim)\n",
    "c1 = Complex(1,2)\n",
    "c2 = Complex(1,2)\n",
    "c3 = c1+c2\n",
    "c3.showNum()\n",
    "        \n",
    "        "
   ]
  },
  {
   "cell_type": "code",
   "execution_count": 81,
   "id": "ad94b379",
   "metadata": {},
   "outputs": [
    {
     "name": "stdout",
     "output_type": "stream",
     "text": [
      "<__main__.Circle object at 0x115f1af00> \n",
      " 3.141592653589793 6.283185307179586\n"
     ]
    }
   ],
   "source": [
    "# Let us practice questions\n",
    "#Ques1) Define a circle class to create a circle with radius r using the constructor.\n",
    "# Define an area() method of the class which calculates the area of the circle\n",
    "#Define a perimeter() method of the class which allows you to calculate the perimeter\n",
    "#of the circle\n",
    "\n",
    "\n",
    "class Circle:\n",
    "    def __init__(self , radius):\n",
    "        self.radius = radius\n",
    "    def area(self):\n",
    "        return np.pi*(self.radius)**2\n",
    "    def perimeter(self):\n",
    "        return 2*np.pi*self.radius\n",
    "c1 = Circle(radius=1)\n",
    "print(c1 , \"\\n\" , c1.area() , c1.perimeter())\n",
    "\n",
    "\n"
   ]
  },
  {
   "cell_type": "code",
   "execution_count": 84,
   "id": "c1a21e8b",
   "metadata": {},
   "outputs": [
    {
     "name": "stdout",
     "output_type": "stream",
     "text": [
      "Hi! This employee works at the Physics department \n",
      " They are currently have the role : Scientist \n",
      " Their salary is INR 20343254.\n"
     ]
    }
   ],
   "source": [
    "# Ques2) Define an employee class with class attributes role , department and salary.This\n",
    "#class also has a show details method.Create an Engineer class that inherits properties from\n",
    "#employee and hasadditional attributes:name and age\n",
    "\n",
    "class Employee:\n",
    "    def __init__(self , role , dept , salary):\n",
    "        self.role = role\n",
    "        self.dept = dept\n",
    "        self.__salary = salary\n",
    "    def showDetails(self):\n",
    "        print(f\"Hi! This employee works at the {self.dept} department \\n They are currently have the role : {self.role} \\n Their salary is INR {self.__salary}.\")\n",
    "class Engineer(Employee):\n",
    "    def __init__(self , name , age , role , dept , salary):\n",
    "        self.name = name\n",
    "        self.age =age\n",
    "        super().__init__(role , dept , salary)\n",
    "        super().showDetails()\n",
    "e1 = Engineer(\"Kabir\" , \"21\" , \"Scientist\" , \"Physics\" , \"20343254\")\n"
   ]
  },
  {
   "cell_type": "code",
   "execution_count": null,
   "id": "e716ae0e",
   "metadata": {},
   "outputs": [],
   "source": []
  },
  {
   "cell_type": "code",
   "execution_count": 87,
   "id": "ac34afa2",
   "metadata": {},
   "outputs": [
    {
     "data": {
      "text/plain": [
       "False"
      ]
     },
     "execution_count": 87,
     "metadata": {},
     "output_type": "execute_result"
    }
   ],
   "source": [
    "#Try yourself first and then see the solution\n",
    "# Create a class called order which stores item and its price\n",
    "#Use dunder function__gt__() to convey that:\n",
    "# order1>order2 if price of order1>price of order2\n",
    "\n",
    "class Order:\n",
    "    def __init__(self , item ,price):\n",
    "        self.item = item\n",
    "        self.price = price\n",
    "    def __gt__(self , item2):\n",
    "        if self.price> item2.price:\n",
    "            return True\n",
    "        else:\n",
    "            return False\n",
    "i1 = Order(item = \"phone\" , price = 10000)\n",
    "i2 = Order(item = \"phone\" , price = 1000)\n",
    "i1<i2"
   ]
  },
  {
   "cell_type": "code",
   "execution_count": 1,
   "id": "d1193400",
   "metadata": {},
   "outputs": [
    {
     "name": "stdout",
     "output_type": "stream",
     "text": [
      "7.105427357601002e-15\n",
      "7.105427357601002e-15\n"
     ]
    }
   ],
   "source": [
    "from relativity import * \n",
    "P0 = FourVector(ct=99.9, r=[1, 2, 3])\n",
    "P1 = FourVector(ct = np.sqrt(50) , r = [3,4,5])\n",
    "print(P1.magsquare())\n",
    "P1.boost(0.8)\n",
    "print(P1.magsquare())\n",
    "\n"
   ]
  },
  {
   "cell_type": "code",
   "execution_count": 6,
   "id": "bc4eb49a",
   "metadata": {},
   "outputs": [],
   "source": [
    "P3 = FourVector(ct = 2, r = [1,2,4])"
   ]
  },
  {
   "cell_type": "code",
   "execution_count": 1,
   "id": "e07bd215",
   "metadata": {},
   "outputs": [
    {
     "ename": "RuntimeError",
     "evalue": "It is unsafe to start the car while in gear",
     "output_type": "error",
     "traceback": [
      "\u001b[31m---------------------------------------------------------------------------\u001b[39m",
      "\u001b[31mRuntimeError\u001b[39m                              Traceback (most recent call last)",
      "\u001b[36mCell\u001b[39m\u001b[36m \u001b[39m\u001b[32mIn[1]\u001b[39m\u001b[32m, line 6\u001b[39m\n\u001b[32m      4\u001b[39m car.transmission.acc_type()\n\u001b[32m      5\u001b[39m car.transmission.acc_gear()\n\u001b[32m----> \u001b[39m\u001b[32m6\u001b[39m \u001b[43mcar\u001b[49m\u001b[43m.\u001b[49m\u001b[43mstart\u001b[49m\u001b[43m(\u001b[49m\u001b[43m)\u001b[49m\n",
      "\u001b[36mFile \u001b[39m\u001b[32m~/Desktop/OOPS 2025 Practice/OOPSPractice/vehicles.py:13\u001b[39m, in \u001b[36mCar.start\u001b[39m\u001b[34m(self)\u001b[39m\n\u001b[32m     11\u001b[39m \u001b[38;5;28;01mdef\u001b[39;00m\u001b[38;5;250m \u001b[39m\u001b[34mstart\u001b[39m(\u001b[38;5;28mself\u001b[39m):\n\u001b[32m     12\u001b[39m     \u001b[38;5;28;01mif\u001b[39;00m \u001b[38;5;28mself\u001b[39m.transmission.gear!=\u001b[32m0\u001b[39m \u001b[38;5;129;01mand\u001b[39;00m \u001b[38;5;28mself\u001b[39m.transmission.type == \u001b[33m\"\u001b[39m\u001b[33mmanual\u001b[39m\u001b[33m\"\u001b[39m:\n\u001b[32m---> \u001b[39m\u001b[32m13\u001b[39m         \u001b[38;5;28;01mraise\u001b[39;00m \u001b[38;5;167;01mRuntimeError\u001b[39;00m(\u001b[33m\"\u001b[39m\u001b[33mIt is unsafe to start the car while in gear\u001b[39m\u001b[33m\"\u001b[39m)\n\u001b[32m     14\u001b[39m     \u001b[38;5;28mself\u001b[39m.engine.start()\n\u001b[32m     15\u001b[39m     \u001b[38;5;28mprint\u001b[39m(\u001b[33m\"\u001b[39m\u001b[33mCar started.\u001b[39m\u001b[33m\"\u001b[39m)\n",
      "\u001b[31mRuntimeError\u001b[39m: It is unsafe to start the car while in gear"
     ]
    }
   ],
   "source": [
    "from vehicles import * \n",
    "car = Car(engine=Engine(\"petrol\"), transmission=Transmission(\"manual\" , ngears = 5))\n",
    "car.transmission.shift_up()\n",
    "car.transmission.acc_type()\n",
    "car.transmission.acc_gear()\n",
    "car.start()"
   ]
  },
  {
   "cell_type": "code",
   "execution_count": 5,
   "id": "bca3c679",
   "metadata": {},
   "outputs": [
    {
     "name": "stdout",
     "output_type": "stream",
     "text": [
      "Red\n",
      "Blue\n"
     ]
    }
   ],
   "source": [
    "from shapes import *\n",
    "s = Shape()\n",
    "print(s.set('Red').color())\n",
    "print(s.set('Yellow').set('Blue').color())\n"
   ]
  },
  {
   "cell_type": "code",
   "execution_count": null,
   "id": "6cac6848",
   "metadata": {},
   "outputs": [],
   "source": []
  }
 ],
 "metadata": {
  "kernelspec": {
   "display_name": ".conda",
   "language": "python",
   "name": "python3"
  },
  "language_info": {
   "codemirror_mode": {
    "name": "ipython",
    "version": 3
   },
   "file_extension": ".py",
   "mimetype": "text/x-python",
   "name": "python",
   "nbconvert_exporter": "python",
   "pygments_lexer": "ipython3",
   "version": "3.12.11"
  }
 },
 "nbformat": 4,
 "nbformat_minor": 5
}
